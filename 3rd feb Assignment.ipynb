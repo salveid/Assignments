{
 "cells": [
  {
   "cell_type": "raw",
   "id": "226ab09d-6be4-4467-b180-ac3108025ef5",
   "metadata": {},
   "source": [
    "3rd feb Assignment"
   ]
  },
  {
   "cell_type": "markdown",
   "id": "cd529fe6-fdc4-496e-99c7-848a0a666ead",
   "metadata": {},
   "source": [
    "Q1. Which keyword is used to create a function? Create a function to return a list of odd numbers in the range of 1 to 25"
   ]
  },
  {
   "cell_type": "markdown",
   "id": "decb4b58-fa12-4c35-88e4-9f97e765878d",
   "metadata": {},
   "source": [
    "Ans:The keyword used to create a function in Python is 'def'"
   ]
  },
  {
   "cell_type": "code",
   "execution_count": 2,
   "id": "80537c8e-8d2d-44ad-90ab-56efdf8db413",
   "metadata": {},
   "outputs": [
    {
     "name": "stdout",
     "output_type": "stream",
     "text": [
      "The odd numbers from 1 to 25 are [1, 3, 5, 7, 9, 11, 13, 15, 17, 19, 21, 23, 25]\n"
     ]
    }
   ],
   "source": [
    "def odd(num):\n",
    "    l = []\n",
    "    for i in range(1, num+1):\n",
    "        if (i % 2 != 0):\n",
    "            l.append(i)\n",
    "    return l\n",
    "num = 25\n",
    "print(f\"The odd numbers from 1 to {num} are {odd(num)}\")"
   ]
  },
  {
   "cell_type": "markdown",
   "id": "88f7b1f3-a4cf-4266-b9ae-73dab7a0ef7e",
   "metadata": {},
   "source": [
    "\n",
    "Q2. Why *args and **kwargs is used in some functions? Create a function each for *args and **kwargs to demonstrate their use"
   ]
  },
  {
   "cell_type": "markdown",
   "id": "7a952a60-97ff-4472-9ce3-becf31cb0c4a",
   "metadata": {},
   "source": [
    "Ans: *args and **kwargs are used in Python functions to pass a variable number of arguments to the function. The *args syntax allows the function to accept any number of positional arguments, while **kwargs allows the function to accept any number of keyword arguments"
   ]
  },
  {
   "cell_type": "code",
   "execution_count": 3,
   "id": "2359ff82-417f-48ac-a28d-7dc84803cb62",
   "metadata": {},
   "outputs": [
    {
     "name": "stdout",
     "output_type": "stream",
     "text": [
      "*args implementation\n",
      " ('A', 420, {'b': 450}, (360, 258, 56325), [4521, 5412, 'Hi']) \n",
      "\n",
      "**kwargs implementaion\n",
      " {'a': 7854, 'b': 5698, 'c': ['Salve', 'Hi'], 'd': (324, 23543, 3, 5424, 766)}\n"
     ]
    }
   ],
   "source": [
    "# '*args' is used to return all the input arguments passed to a function.\n",
    "# '**kwargs' is used to return all the input arguments in dictionary's key and value pair form.\n",
    "\n",
    "def ar(*args):\n",
    "    return args\n",
    "\n",
    "def kwar(**kwargs):\n",
    "    return kwargs\n",
    "\n",
    "argss = ar(\"A\", 420, {\"b\": 450}, (360, 258, 56325), [4521, 5412, \"Hi\"])\n",
    "print(\"*args implementation\\n\", argss, \"\\n\")\n",
    "\n",
    "kwargss = kwar(a=7854, b=5698, c=[\"Salve\", \"Hi\"], d=(\n",
    "    324, 23543, 3, 5424, 766))\n",
    "print(\"**kwargs implementaion\\n\", kwargss)"
   ]
  },
  {
   "cell_type": "markdown",
   "id": "f56d41a8-d215-45f5-8f36-399ab913f2f2",
   "metadata": {},
   "source": [
    "\n",
    "Q3. What is an iterator in python? Name the method used to initialise the iterator object and the method used for iteration. Use these methods to print the first five elements of the given list [2, 4, 6, 8, 10, 12, 14, 16, 18, 20]"
   ]
  },
  {
   "cell_type": "markdown",
   "id": "51e8f41d-527c-48c3-abe9-8b68214df012",
   "metadata": {},
   "source": [
    "Ans: An iterator is an object that is used to traverse or iterate over an iterable object (such as a list, tuple, or dictionary) in a sequential manner. The iterator object is created using the iter() method, which takes an iterable object as an argument and returns an iterator object. The 'next()' method is used to iterate over the elements of the iterator object"
   ]
  },
  {
   "cell_type": "code",
   "execution_count": null,
   "id": "a626f59b-9dd2-40ac-af55-719f3f9537d8",
   "metadata": {},
   "outputs": [
    {
     "name": "stdout",
     "output_type": "stream",
     "text": [
      "2\n",
      "4\n",
      "6\n",
      "8\n",
      "10\n"
     ]
    }
   ],
   "source": [
    "# An iterator is an object that can be iterated again and again.\n",
    "# __iter__() and __next__ methods are used to implement iterator in python.\n",
    "# create an iterator object for the list\n",
    "my_list = [2, 4, 6, 8, 10, 12, 14, 16, 18, 20]\n",
    "my_iterator = iter(my_list)\n",
    "# iterate over the first five elements of the list using the next() method\n",
    "for i in range(5):\n",
    "    print(next(my_iterator))"
   ]
  },
  {
   "cell_type": "markdown",
   "id": "f48faa1a-ff71-4d21-8bc5-75f04d576eff",
   "metadata": {},
   "source": [
    "\n",
    "Q4. What is a generator function in python? Why yield keyword is used? Give an example of a generator function."
   ]
  },
  {
   "cell_type": "markdown",
   "id": "d47fba79-461e-4e48-ac6d-9f795e3f1da1",
   "metadata": {},
   "source": [
    "Ans: a generator function is a special type of function that generates an iterator. It allows you to define a function that behaves like an iterator, i.e., it can be used in a for loop. However, unlike a regular function, a generator function does not return a value and exit the function.\n",
    "The 'yield' keyword is used in a generator function to return a value and temporarily suspend execution. The function can be resumed from where it left off by calling it again, and it will continue to generate values until there are no more values to be generated."
   ]
  },
  {
   "cell_type": "code",
   "execution_count": 7,
   "id": "af0f9e11-3d53-48ff-8c49-74932aaecb44",
   "metadata": {},
   "outputs": [
    {
     "name": "stdout",
     "output_type": "stream",
     "text": [
      "1\n",
      "4\n",
      "9\n",
      "16\n",
      "25\n"
     ]
    }
   ],
   "source": [
    "def square_generator():\n",
    "    for i in range(1, 6):\n",
    "        yield i ** 2\n",
    "for square in square_generator():\n",
    "    print(square)\n"
   ]
  },
  {
   "cell_type": "markdown",
   "id": "1f891c0b-12d3-4ff3-8e58-06a1b3049517",
   "metadata": {},
   "source": [
    "\n",
    "Q5. Create a generator function for prime numbers less than 1000. Use the next() method to print the first 20 prime numbers."
   ]
  },
  {
   "cell_type": "code",
   "execution_count": 2,
   "id": "210a2f15-53af-4654-bee3-3054d5f18503",
   "metadata": {},
   "outputs": [
    {
     "name": "stdout",
     "output_type": "stream",
     "text": [
      "2\n",
      "3\n",
      "5\n",
      "7\n",
      "11\n",
      "13\n",
      "17\n",
      "19\n",
      "23\n",
      "29\n",
      "31\n",
      "37\n",
      "41\n",
      "43\n",
      "47\n",
      "53\n",
      "59\n",
      "61\n",
      "67\n",
      "71\n"
     ]
    }
   ],
   "source": [
    "def get_primes():\n",
    "    num = 2\n",
    "    while True:\n",
    "        for i in range(2, num):\n",
    "            if num % i == 0:\n",
    "                break\n",
    "        else:\n",
    "            yield num\n",
    "        num += 1\n",
    "prime_gen = get_primes()\n",
    "for i in range(20):\n",
    "    print(next(prime_gen))"
   ]
  },
  {
   "cell_type": "markdown",
   "id": "c16205aa-dec2-4ea4-b51c-2e3b9b0bea71",
   "metadata": {},
   "source": [
    "\n",
    "Q6. Write a python program to print the first 10 Fibonacci numbers using a while loop."
   ]
  },
  {
   "cell_type": "code",
   "execution_count": 1,
   "id": "506a3495-9537-433f-a501-2ebf1e6d637f",
   "metadata": {},
   "outputs": [
    {
     "name": "stdout",
     "output_type": "stream",
     "text": [
      "0\n",
      "1\n",
      "1\n",
      "2\n",
      "3\n",
      "5\n",
      "8\n",
      "13\n",
      "21\n",
      "34\n"
     ]
    }
   ],
   "source": [
    "a, b = 0, 1\n",
    "count = 0\n",
    "while count < 10:\n",
    "    print(a)\n",
    "    a, b = b, a+b\n",
    "    count += 1"
   ]
  },
  {
   "cell_type": "markdown",
   "id": "68c394e5-0d60-4b70-b61e-8615985f6e2f",
   "metadata": {},
   "source": [
    "\n",
    "Q7. Write a List Comprehension to iterate through the given string: 'pwskills'. Expected output: ['p', 'w', 's', 'k', 'T, T, T, 's']"
   ]
  },
  {
   "cell_type": "code",
   "execution_count": 3,
   "id": "4ecd0c21-14c4-466c-8064-d37c587b70ae",
   "metadata": {},
   "outputs": [
    {
     "name": "stdout",
     "output_type": "stream",
     "text": [
      "['p', 'w', 's', 'k', 'T', 'T', 'T', 's']\n"
     ]
    }
   ],
   "source": [
    "string = 'pwskills'\n",
    "output = [char if char in ['p', 'w', 's', 'k'] else 'T' for char in string]\n",
    "print(output)"
   ]
  },
  {
   "cell_type": "markdown",
   "id": "91f777b8-1b39-4369-82aa-64404fe053d1",
   "metadata": {},
   "source": [
    "\n",
    "Q8. Write a python program to check whether a given number is Palindrome or not using a while loop."
   ]
  },
  {
   "cell_type": "code",
   "execution_count": 4,
   "id": "9523e334-8971-4ab7-9b38-328ed3fcd64a",
   "metadata": {},
   "outputs": [
    {
     "name": "stdin",
     "output_type": "stream",
     "text": [
      "Enter a number:  11\n"
     ]
    },
    {
     "name": "stdout",
     "output_type": "stream",
     "text": [
      "11 is a Palindrome number\n"
     ]
    }
   ],
   "source": [
    "num = int(input(\"Enter a number: \"))\n",
    "temp = num\n",
    "rev = 0\n",
    "while temp > 0:\n",
    "    rem = temp % 10\n",
    "    rev = rev * 10 + rem\n",
    "    temp = temp // 10\n",
    "if num == rev:\n",
    "    print(num, \"is a Palindrome number\")\n",
    "else:\n",
    "    print(num, \"is not a Palindrome number\")"
   ]
  },
  {
   "cell_type": "markdown",
   "id": "7828b340-14be-409b-a0e7-c3619b3c5ce0",
   "metadata": {},
   "source": [
    "Q9. Write a code to print odd numbers from 1 to 100 using list comprehension."
   ]
  },
  {
   "cell_type": "code",
   "execution_count": 5,
   "id": "69f55083-2bd2-432c-b211-5a66a9f2cfc3",
   "metadata": {},
   "outputs": [
    {
     "name": "stdout",
     "output_type": "stream",
     "text": [
      "[1, 3, 5, 7, 9, 11, 13, 15, 17, 19, 21, 23, 25, 27, 29, 31, 33, 35, 37, 39, 41, 43, 45, 47, 49, 51, 53, 55, 57, 59, 61, 63, 65, 67, 69, 71, 73, 75, 77, 79, 81, 83, 85, 87, 89, 91, 93, 95, 97, 99]\n"
     ]
    }
   ],
   "source": [
    "odd_numbers = [num for num in range(1, 101) if num % 2 != 0]\n",
    "print(odd_numbers)"
   ]
  }
 ],
 "metadata": {
  "kernelspec": {
   "display_name": "Python 3 (ipykernel)",
   "language": "python",
   "name": "python3"
  },
  "language_info": {
   "codemirror_mode": {
    "name": "ipython",
    "version": 3
   },
   "file_extension": ".py",
   "mimetype": "text/x-python",
   "name": "python",
   "nbconvert_exporter": "python",
   "pygments_lexer": "ipython3",
   "version": "3.10.8"
  }
 },
 "nbformat": 4,
 "nbformat_minor": 5
}
