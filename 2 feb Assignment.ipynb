{
 "cells": [
  {
   "cell_type": "markdown",
   "id": "9879ac81-b8e8-4aeb-94e2-2cc68fae4e5d",
   "metadata": {},
   "source": [
    "2 feb Assignment"
   ]
  },
  {
   "cell_type": "markdown",
   "id": "c33d1a76-2aeb-495d-93a6-d583cf3c1133",
   "metadata": {},
   "source": [
    "1. Explain with an example each when to use a for loop and a while loop"
   ]
  },
  {
   "cell_type": "raw",
   "id": "f7d70928-e56d-410b-a814-11a8b6789d65",
   "metadata": {},
   "source": [
    "Ans:you can use a for loop when you have a fixed number of times you want to loop through some code, and a while loop when you want to loop until a certain condition is met. "
   ]
  },
  {
   "cell_type": "code",
   "execution_count": 1,
   "id": "284e8e6c-e52c-464f-b697-c65844509e7f",
   "metadata": {},
   "outputs": [
    {
     "name": "stdout",
     "output_type": "stream",
     "text": [
      "1\n",
      "2\n",
      "3\n",
      "4\n",
      "5\n"
     ]
    }
   ],
   "source": [
    "# using for loop printing the numbers from 1 to 5\n",
    "for i in range(1, 6):  # Here no of iterations are already specified\n",
    "    print(i)"
   ]
  },
  {
   "cell_type": "code",
   "execution_count": 2,
   "id": "b16018cf-8b02-4d4a-a435-1329c1a7bad2",
   "metadata": {},
   "outputs": [
    {
     "name": "stdout",
     "output_type": "stream",
     "text": [
      "5\n",
      "4\n",
      "3\n",
      "2\n",
      "1\n"
     ]
    }
   ],
   "source": [
    "# While Loop - We use while loop when the no of iterations are known.\n",
    "#            - When loop has to be breaked if a condition is fulfilled.\n",
    "# Printing 5 to 1\n",
    "i = 5\n",
    "while (i > 0):  # Here i greater than 0 is a condition\n",
    "    print(i)\n",
    "    i -= 1"
   ]
  },
  {
   "cell_type": "markdown",
   "id": "cb83abcc-0832-4271-ab19-9f15b9275ec1",
   "metadata": {},
   "source": [
    "\n",
    "2. Write a python program to print the sum and product of the first 10 natural numbers using for and while loop."
   ]
  },
  {
   "cell_type": "code",
   "execution_count": 3,
   "id": "71654342-ec72-45b5-a6a8-2f5d694cdac0",
   "metadata": {},
   "outputs": [
    {
     "name": "stdout",
     "output_type": "stream",
     "text": [
      "Sum of first 10 natural numbers is: 55\n",
      "Product of first 10 natural numbers is: 3628800\n"
     ]
    }
   ],
   "source": [
    "#Using for loop: calculating sum and product of first 10 natural numbers using for loop\n",
    "sum = 0\n",
    "product = 1\n",
    "for i in range(1, 11):\n",
    "    sum += i\n",
    "    product *= i\n",
    "print(\"Sum of first 10 natural numbers is:\", sum)\n",
    "print(\"Product of first 10 natural numbers is:\", product)"
   ]
  },
  {
   "cell_type": "code",
   "execution_count": 4,
   "id": "fc433685-e5dc-4595-b7ee-014ec4835879",
   "metadata": {},
   "outputs": [
    {
     "name": "stdout",
     "output_type": "stream",
     "text": [
      "Sum of first 10 natural numbers is: 55\n",
      "Product of first 10 natural numbers is: 3628800\n"
     ]
    }
   ],
   "source": [
    "#Using while loop: calculating sum and product of first 10 natural numbers using while loop\n",
    "n = 1\n",
    "sum = 0\n",
    "product = 1\n",
    "while n <= 10:\n",
    "    sum += n\n",
    "    product *= n\n",
    "    n += 1\n",
    "print(\"Sum of first 10 natural numbers is:\", sum)\n",
    "print(\"Product of first 10 natural numbers is:\", product)"
   ]
  },
  {
   "cell_type": "markdown",
   "id": "4beef126-eca4-4ac2-acab-62152cfface1",
   "metadata": {},
   "source": [
    "\n",
    "3. Create a python program to compute the electricity bill for a household. The per-unit charges in rupees are as follows: For the first 100 units, the user will be charged Rs. 4.5 per unit, for the next 100 units, the user will be charged Rs. 6 per unit, and for the next 100 units, the user will be charged Rs. 10 per unit, After 300 units and above the user will be charged Rs. 20 per unit.\n",
    "You are required to take the units of electricity consumed in a month from the user as input.\n",
    "Your program must pass this test case: when the unit of electricity consumed by the user in a month is 310, the total electricity bill should be 2250."
   ]
  },
  {
   "cell_type": "code",
   "execution_count": 5,
   "id": "cc990a84-9ea7-49fa-9720-25378c23cc55",
   "metadata": {},
   "outputs": [
    {
     "name": "stdin",
     "output_type": "stream",
     "text": [
      "Enter the units of electricity consumed in a month:  120\n"
     ]
    },
    {
     "name": "stdout",
     "output_type": "stream",
     "text": [
      "Your electricity bill for the month is: 570.0\n"
     ]
    }
   ],
   "source": [
    "consumed_units = int(input(\"Enter the units of electricity consumed in a month: \"))\n",
    "if consumed_units <= 100:\n",
    "    bill = consumed_units * 4.5\n",
    "elif consumed_units <= 200:\n",
    "    bill = 100 * 4.5 + (consumed_units - 100) * 6\n",
    "elif consumed_units <= 300:\n",
    "    bill = 100 * 4.5 + 100 * 6 + (consumed_units - 200) * 10\n",
    "else:\n",
    "    bill = 100 * 4.5 + 100 * 6 + 100 * 10 + (consumed_units - 300) * 20\n",
    "\n",
    "print(\"Your electricity bill for the month is:\", bill)"
   ]
  },
  {
   "cell_type": "markdown",
   "id": "675357e3-7ff1-467c-9b37-e2a7079fd89b",
   "metadata": {},
   "source": [
    "\n",
    "4. Create a list of numbers from 1 to 100. Use for loop and while loop to calculate the cube of each number and if the cube of that number is divisible by 4 or 5 then append that number in a list and print that list"
   ]
  },
  {
   "cell_type": "code",
   "execution_count": null,
   "id": "30211ee2-2586-42bf-8b40-6581f9c71c67",
   "metadata": {},
   "outputs": [],
   "source": [
    "# Using for loop: Create a list of numbers from 1 to 100\n",
    "numbers = list(range(1, 101))\n",
    "\n",
    "# Create an empty list to store the numbers whose cubes are divisible by 4 or 5\n",
    "result = []\n",
    "\n",
    "# Calculate the cube of each number and check if it is divisible by 4 or 5\n",
    "for num in numbers:\n",
    "    cube = num ** 3\n",
    "    if cube % 4 == 0 or cube % 5 == 0:\n",
    "        result.append(num)\n",
    "\n",
    "print(result)\n"
   ]
  },
  {
   "cell_type": "code",
   "execution_count": 8,
   "id": "4ddd276c-fb29-4b63-a446-7ac994664cc1",
   "metadata": {},
   "outputs": [
    {
     "name": "stdout",
     "output_type": "stream",
     "text": [
      "[2, 4, 5, 6, 8, 10, 12, 14, 15, 16, 18, 20, 22, 24, 25, 26, 28, 30, 32, 34, 35, 36, 38, 40, 42, 44, 45, 46, 48, 50, 52, 54, 55, 56, 58, 60, 62, 64, 65, 66, 68, 70, 72, 74, 75, 76, 78, 80, 82, 84, 85, 86, 88, 90, 92, 94, 95, 96, 98, 100]\n"
     ]
    }
   ],
   "source": [
    "# using while loop:\n",
    "result = []\n",
    "num = 1\n",
    "\n",
    "while num <= 100:\n",
    "    cube = num ** 3\n",
    "    if cube % 4 == 0 or cube % 5 == 0:\n",
    "        result.append(num)\n",
    "    num += 1\n",
    "\n",
    "print(result)\n"
   ]
  },
  {
   "cell_type": "markdown",
   "id": "e2769616-2bfa-4c2e-9e8d-beee29835e47",
   "metadata": {},
   "source": [
    "\n",
    "5. Write a program to filter count vowels in the below-given string.\n",
    "string = \"I want to become a data scientist\"\n"
   ]
  },
  {
   "cell_type": "code",
   "execution_count": 9,
   "id": "26540737-5b89-4e04-9bd2-5b49cb7bd009",
   "metadata": {},
   "outputs": [
    {
     "name": "stdout",
     "output_type": "stream",
     "text": [
      "Number of vowels in the string: 12\n"
     ]
    }
   ],
   "source": [
    "string = \"I want to become a data scientist\"\n",
    "\n",
    "count = 0\n",
    "for char in string:\n",
    "    if char in \"aeiouAEIOU\":\n",
    "        count += 1\n",
    "\n",
    "print(\"Number of vowels in the string:\", count)\n"
   ]
  }
 ],
 "metadata": {
  "kernelspec": {
   "display_name": "Python 3 (ipykernel)",
   "language": "python",
   "name": "python3"
  },
  "language_info": {
   "codemirror_mode": {
    "name": "ipython",
    "version": 3
   },
   "file_extension": ".py",
   "mimetype": "text/x-python",
   "name": "python",
   "nbconvert_exporter": "python",
   "pygments_lexer": "ipython3",
   "version": "3.10.8"
  }
 },
 "nbformat": 4,
 "nbformat_minor": 5
}
