{
 "cells": [
  {
   "cell_type": "raw",
   "id": "ce7e1f7e-1b9a-4ed2-977d-c830cf82b154",
   "metadata": {},
   "source": [
    "5 feb Assignment "
   ]
  },
  {
   "cell_type": "markdown",
   "id": "5e9739f2-efb8-4c68-843a-ce990ec3a036",
   "metadata": {},
   "source": [
    "Q1. Explain Class and Object with respect to Object-Oriented Programming. Give a suitable example"
   ]
  },
  {
   "cell_type": "markdown",
   "id": "3d0eb366-e3aa-40d9-bd57-9b592530caaa",
   "metadata": {},
   "source": [
    "  A class is a blueprint or a template for creating objects, which are instances of the class. The class defines the properties and behaviors of the objects, and each object created from the class has its own set of properties and can perform its own actions or methods.\n",
    "  An object,is an instance of a class. It is a specific entity created from the blueprint defined by the class, with its own set of values for the properties and methods. Objects can interact with each other and perform various tasks in a program.\n",
    "Consider a class called 'Car' that defines the properties and methods of a car object. The properties of the 'Car' class might include things like the make, model, year, color, and current speed of the car. The methods might include actions that the car can perform, such as accelerating, braking, and turning.\n",
    "    To create an object of the 'Car' class, we would first need to define its properties. For example: \n",
    "    make = \"Toyota\"\n",
    "    model = \"Camry\"\n",
    "    year = 2020\n",
    "    color = \"black\"\n",
    "We could then create an instance of the 'Car'class using these values: my_car = Car(make, model, year, color)\n",
    "    Now, 'my_car' is an object of the 'Car' class, with its own set of properties and methods. We can access its properties and perform its methods, such as:\n",
    "print(my_car.make)  # output: Toyota\n",
    "print(my_car.accelerate(10))  # output: current speed is now 10 mph\n"
   ]
  },
  {
   "cell_type": "markdown",
   "id": "c7d90cbc-fe3e-49b3-9503-bd44541b05bd",
   "metadata": {},
   "source": [
    "Q2. Name the four pillars of OOPs"
   ]
  },
  {
   "cell_type": "markdown",
   "id": "c3cd5820-2b4f-4e76-84ac-f6f30d38c34c",
   "metadata": {},
   "source": [
    "1.Encapsulation: This refers to the bundling of data and methods that operate on that data within a single unit, known as a class. Encapsulation ensures that the internal workings of an object are hidden from the outside world, and that its state can only be accessed through a defined set of methods.\n",
    "\n",
    "2.Abstraction: This involves the creation of abstract classes and interfaces that provide a high-level view of the functionality of an object, without exposing its internal implementation details. Abstraction helps to reduce complexity, improve code reusability, and enhance maintainability.\n",
    "\n",
    "3.Inheritance: This is a mechanism that enables one class to inherit the properties and behaviors of another class. Inheritance promotes code reuse by allowing developers to create new classes that are built upon existing classes.\n",
    "\n",
    "4.Polymorphism: This allows objects of different classes to be treated as if they are objects of the same class, based on a shared interface or inheritance hierarchy. Polymorphism enables more flexible and adaptable code, as it allows developers to write generic code that can be applied to a wide range of objects."
   ]
  },
  {
   "cell_type": "markdown",
   "id": "a6292b23-5008-4253-9da4-87c8a5309fa6",
   "metadata": {},
   "source": [
    "Q3. Explain why the __init__() function is used. Give a suitable example"
   ]
  },
  {
   "cell_type": "markdown",
   "id": "89d0e063-1bb8-4d4b-a14a-7911200ff914",
   "metadata": {},
   "source": [
    "the '__init__()' function is a special method that gets called automatically when an object of a class is created. It is used to initialize the object's attributes or properties with default values or values provided during object creation.\n",
    "example: class Person:\n",
    "            def __init__(self, name, age):\n",
    "                self.name = name\n",
    "                self.age = age\n",
    "In this example, we have defined a class Person with two attributes name and age. The __init__() method takes two arguments name and age and assigns them to the corresponding attributes of the object.\n",
    "    Now, when we create an object of the Person class, we can pass in the values for name and age, and they will be assigned to the object's attributes:\n",
    "person1 = Person(\"Alice\", 25)\n",
    "person2 = Person(\"Bob\", 30)\n",
    "\n",
    "print(person1.name) # Output: Alice\n",
    "print(person2.age) # Output: 30\n"
   ]
  },
  {
   "cell_type": "markdown",
   "id": "8051cd26-303c-4284-8b0c-a1494f78539d",
   "metadata": {},
   "source": [
    "Q4. Why self is used in OOPs?"
   ]
  },
  {
   "cell_type": "markdown",
   "id": "62ca220e-c7e8-4d3b-9772-f4b4ef29b383",
   "metadata": {},
   "source": [
    "\"self\" is a keyword used to refer to the instance of a class that is currently being operated on. It is used to access the attributes and methods of the instance within the class methods."
   ]
  },
  {
   "cell_type": "markdown",
   "id": "5954b4e7-012c-4555-a70d-b71b29be79bc",
   "metadata": {},
   "source": [
    "Q5. What is inheritance? Give an example for each type of inheritance"
   ]
  },
  {
   "cell_type": "markdown",
   "id": "cf290d6c-43fb-479c-8f76-4c01347c0f9c",
   "metadata": {},
   "source": [
    "inheritance allows a subclass to reuse and extend the functionality of its superclass.\n",
    "There are four types of inheritance in Python:\n",
    "1. Single inheritance: When a subclass inherits from a single superclass\n",
    "class Animal:\n",
    "    def __init__(self, name):\n",
    "        self.name = name\n",
    "\n",
    "class Dog(Animal):\n",
    "    def bark(self):\n",
    "        print(\"Woof!\")\n",
    "\n",
    "dog1 = Dog(\"Rufus\")\n",
    "print(dog1.name) # Output: Rufus\n",
    "dog1.bark() # Output: Woof!\n",
    "    In this example, the 'Dog' class inherits from the 'Animal' class. The 'Dog' class has access to the 'name' attribute and the '__init__()' method of the 'Animal' class. The 'Dog' class also has its own method, 'bark()', which is not present in the 'Animal' class.\n",
    "\n",
    "2. Multiple inheritance: When a subclass inherits from multiple superclasses.\n",
    "class Car:\n",
    "    def drive(self):\n",
    "        print(\"Driving a car...\")\n",
    "\n",
    "class Boat:\n",
    "    def sail(self):\n",
    "        print(\"Sailing a boat...\")\n",
    "\n",
    "class AmphibiousVehicle(Car, Boat):\n",
    "    def operate(self):\n",
    "        print(\"Operating an amphibious vehicle...\")\n",
    "\n",
    "av1 = AmphibiousVehicle()\n",
    "av1.drive() # Output: Driving a car...\n",
    "av1.sail() # Output: Sailing a boat...\n",
    "av1.operate() # Output: Operating an amphibious vehicle...\n",
    "    In this example, the 'AmphibiousVehicle' class inherits from both the 'Car' and 'Boat' classes. The 'AmphibiousVehicle' class has access to the 'drive()' method from the 'Car' class and the 'sail()' method from the 'Boat' class. The 'AmphibiousVehicle' class also has its own method, 'operate()'.\n",
    "\n",
    "3. Hierarchical inheritance: When multiple subclasses inherit from a single superclass.\n",
    "class Animal:\n",
    "    def __init__(self, name):\n",
    "        self.name = name\n",
    "\n",
    "class Dog(Animal):\n",
    "    def bark(self):\n",
    "        print(\"Woof!\")\n",
    "\n",
    "class Cat(Animal):\n",
    "    def meow(self):\n",
    "        print(\"Meow!\")\n",
    "\n",
    "dog1 = Dog(\"Rufus\")\n",
    "cat1 = Cat(\"Fluffy\")\n",
    "print(dog1.name) # Output: Rufus\n",
    "print(cat1.name) # Output: Fluffy\n",
    "dog1.bark() # Output: Woof!\n",
    "cat1.meow() # Output: Meow!\n",
    "    In this example, both the 'Dog' and 'Cat' classes inherit from the 'Animal' class. The 'Dog' and 'Cat' classes have access to the 'name' attribute and the '__init__()' method of the 'Animal' class. The 'Dog' class has its own method, 'bark()', and the 'Cat' class has its own method, 'meow()'.\n",
    "\n",
    "4. Multilevel inheritance: When a subclass inherits from a superclass, which in turn inherits from another superclass.\n",
    "class Vehicle:\n",
    "    def __init__(self, name):\n",
    "        self.name = name\n",
    "\n",
    "class Car(Vehicle):\n",
    "    def drive(self):\n",
    "        print(\"Driving a car...\")\n",
    "\n",
    "class SportsCar(Car):\n",
    "    def accelerate(self):\n",
    "        print(\"Accelerating a sports car...\")\n",
    "\n",
    "sc1 = SportsCar(\"Porsche\")\n",
    "print(sc1.name) # Output: Porsche\n",
    "sc1.drive() # Output: Driving a car...\n",
    "sc1.accelerate() # Output: Accelerating a sports car...\n",
    "    In this example, the 'SportsCar' class inherits from the 'Car' class, which in turn inherits from the 'Vehicle' class. The 'SportsCar' class has access to the 'name' attribute and the __init__() method of the Vehicle class, as well as the 'drive()' method of the 'Car' class. The 'SportsCar' class also has its own method, 'accelerate()'.\n"
   ]
  }
 ],
 "metadata": {
  "kernelspec": {
   "display_name": "Python 3 (ipykernel)",
   "language": "python",
   "name": "python3"
  },
  "language_info": {
   "codemirror_mode": {
    "name": "ipython",
    "version": 3
   },
   "file_extension": ".py",
   "mimetype": "text/x-python",
   "name": "python",
   "nbconvert_exporter": "python",
   "pygments_lexer": "ipython3",
   "version": "3.10.8"
  }
 },
 "nbformat": 4,
 "nbformat_minor": 5
}
