{
 "cells": [
  {
   "cell_type": "raw",
   "id": "f5d5cdd2-f002-41c3-ba1a-6094f78edbed",
   "metadata": {},
   "source": [
    "29th jan 1st Assignment"
   ]
  },
  {
   "cell_type": "markdown",
   "id": "5f15c008-b7fe-4e59-8a4f-46e75ee7d5c3",
   "metadata": {},
   "source": [
    "1. Who developed Python Programming Language?\n",
    "Ans:Python was created by Guido van Rossum and released on February 20, 1991.\n",
    "2. Which type of Programming does Python support?\n",
    "Ans:Python supports both structured and object-orinted programming approach.\n",
    "3. Is Python case sensitive when dealing with identifiers?\n",
    "Ans:Yes, Python is case sensitive while dealing with identifiers.\n",
    "4. What is the correct extension of the Python file?\n",
    "Ans:Extension name for python is \".py\".\n",
    "5. Is Python code compiled or interpreted?\n",
    "Ans:Python is interpretted.\n",
    "6. Name a few blocks of code used to define in Python language?\n",
    "Ans:def, print, import, if, else, for, etc\n",
    "7. State a character used to give single-line comments in Python?\n",
    "Ans:\"#\"\n",
    "8. Mention functions which can help us to find the version of python that we are currently working on?\n",
    "Ans:\"sys.version\" from package \"sys\" is used to find python version.\n",
    "9. Python supports the creation of anonymous functions at runtime, using a construct called\n",
    "Ans:\"lambda\"\n",
    "10. What does pip stand for python?\n",
    "Ans:pip stands for \"Preferred Installer Program\"\n",
    "11. Mention a few built-in functions in python?\n",
    "Ans:Built in dunctions in python - len(), type(), min(), max(), print(), int(), float(), char(), bool(), etc\n",
    "12. What is the maximum possible length of an identifier in Python?\n",
    "Ans:Max possible length of an identifier is 79 characters.\n",
    "13. What are the benefits of using Python?\n",
    "Ans:Pros of pyhon are: - Portabliity - Massive Libraries and Frameworks supported - Interpreted Lang - Auto memory management - Scalability - Dynamically typed - Massive Community and many more\n",
    "14. How is memory managed in Python?\n",
    "Ans:Python manages memory in heap space privately.\n",
    "15. How to install Python on Windows and set path variables?\n",
    "Ans:Download python executible form www.python.org and check the path varibale box during installation. BTW I use linux: )\n",
    "16. Is indentation required in python?\n",
    "Ans:Yes, It's mandatory."
   ]
  }
 ],
 "metadata": {
  "kernelspec": {
   "display_name": "Python 3 (ipykernel)",
   "language": "python",
   "name": "python3"
  },
  "language_info": {
   "codemirror_mode": {
    "name": "ipython",
    "version": 3
   },
   "file_extension": ".py",
   "mimetype": "text/x-python",
   "name": "python",
   "nbconvert_exporter": "python",
   "pygments_lexer": "ipython3",
   "version": "3.10.8"
  }
 },
 "nbformat": 4,
 "nbformat_minor": 5
}
